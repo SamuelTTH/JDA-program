{
 "cells": [
  {
   "cell_type": "code",
   "execution_count": 24,
   "id": "efa28326",
   "metadata": {},
   "outputs": [
    {
     "name": "stdout",
     "output_type": "stream",
     "text": [
      "49\n"
     ]
    }
   ],
   "source": [
    "#Write a Python program to solve (x + y) * (x + y)\n",
    "#Test Data : x = 4, y = 3\n",
    "\n",
    "x=4; y=3\n",
    "print((x + y) * (x + y))"
   ]
  },
  {
   "cell_type": "code",
   "execution_count": 44,
   "id": "20b0eb42",
   "metadata": {
    "scrolled": false
   },
   "outputs": [
    {
     "name": "stdout",
     "output_type": "stream",
     "text": [
      "Enter a number:213124\n",
      "213124.0\n",
      "213124\n"
     ]
    }
   ],
   "source": [
    "#Write a Python program to parse a string to Float or Integer.\n",
    "x=input('Enter a number:')\n",
    "\n",
    "while True:\n",
    "    try:\n",
    "        print(float(x))\n",
    "        print(int(x))\n",
    "        break\n",
    "    except ValueError:\n",
    "        print('please enter a number istead of a string')\n",
    "        break"
   ]
  },
  {
   "cell_type": "code",
   "execution_count": 72,
   "id": "3d56b09e",
   "metadata": {},
   "outputs": [
    {
     "name": "stdout",
     "output_type": "stream",
     "text": [
      "Enter a number: 4\n",
      "0\n",
      "1\n",
      "3\n",
      "6\n",
      "10\n",
      "10\n"
     ]
    }
   ],
   "source": [
    "#Write a python program to find the sum of the first n positive integers.\n",
    "\n",
    "n=int(input('Enter a number: '))\n",
    "sum=0\n",
    "\n",
    "for i in range(0,n+1):\n",
    "    sum=i+sum\n",
    "    print(sum)\n",
    "print(sum)"
   ]
  },
  {
   "cell_type": "code",
   "execution_count": 98,
   "id": "a4d60a00",
   "metadata": {
    "scrolled": true
   },
   "outputs": [
    {
     "name": "stdout",
     "output_type": "stream",
     "text": [
      "Please enter the distance (in feet): 100\n",
      "100.0 in feet equal to  1200.0  inches\n",
      "100.0 in feet equal to  33.333333333333336  yaards\n",
      "100.0 in feet equal to  0.01893939393939394  miles\n"
     ]
    }
   ],
   "source": [
    "#Write a Python program to convert the distance (in feet) to inches, yards, and miles\n",
    "\n",
    "d_infeet=input('Please enter the distance (in feet): ')\n",
    "\n",
    "x=float(d_infeet)\n",
    "print(x,'in feet equal to ',x*12,' inches')\n",
    "print(x,'in feet equal to ',x/3,' yaards')\n",
    "print(x,'in feet equal to ',x/5280,' miles')\n",
    "\n"
   ]
  },
  {
   "cell_type": "code",
   "execution_count": 99,
   "id": "a9280f68",
   "metadata": {},
   "outputs": [
    {
     "name": "stdout",
     "output_type": "stream",
     "text": [
      "Please enter the hours: 12\n",
      "Please enter the minutes: 2\n",
      "Please enter the second: 3\n",
      "The total time in seconds:  43323.0\n"
     ]
    }
   ],
   "source": [
    "#Write a Python program to convert all units of time into seconds\n",
    "t_hour=float(input('Please enter the hours: '))\n",
    "t_minutes=float(input('Please enter the minutes: '))\n",
    "t_second=float(input('Please enter the second: '))\n",
    "\n",
    "print('The total time in seconds: ',t_hour*60*60+t_minutes*60+t_second)"
   ]
  },
  {
   "cell_type": "code",
   "execution_count": 117,
   "id": "535ca4f5",
   "metadata": {},
   "outputs": [
    {
     "name": "stdout",
     "output_type": "stream",
     "text": [
      "Please enter the total seconds: 4000\n",
      "0.0 day  1.0 hour  6.0 minute  40.0 second\n"
     ]
    }
   ],
   "source": [
    "#Write a Python program to convert seconds to day, hour, minutes and seconds.\n",
    "t_second=input('Please enter the total seconds: ')\n",
    "\n",
    "x=float(t_second)\n",
    "\n",
    "m_day=60*60*24\n",
    "m_hour=60*60\n",
    "m_minute=60\n",
    "\n",
    "t_day=x//m_day\n",
    "t_hour=(x-t_day*m_day)//m_hour\n",
    "t_minute=(x-t_day*m_day-t_hour*m_hour)//m_minute\n",
    "t_second=x-t_day*m_day-t_hour*m_hour-t_minute*m_minute\n",
    "\n",
    "print(t_day,'day ',t_hour,'hour ',t_minute,'minute ',t_second,'second')"
   ]
  },
  {
   "cell_type": "code",
   "execution_count": 120,
   "id": "3e3dd705",
   "metadata": {
    "scrolled": true
   },
   "outputs": [
    {
     "name": "stdout",
     "output_type": "stream",
     "text": [
      "30+20=50\n"
     ]
    }
   ],
   "source": [
    "#Given variables x=30 and y=20, write a Python program to print \"30+20=50\"\n",
    "x=30; y=20\n",
    "\n",
    "print(f\"{x}+{y}={x+y}\")"
   ]
  },
  {
   "cell_type": "code",
   "execution_count": 149,
   "id": "bb491c6d",
   "metadata": {},
   "outputs": [
    {
     "name": "stdout",
     "output_type": "stream",
     "text": [
      "First day of a Month!\n"
     ]
    }
   ],
   "source": [
    "#Write a Python program to perform an action if a condition is true. Given a variable name, if the value is 1, display the string \"First day of a Month!\" and do nothing if the value is not equal.\n",
    "variable=1\n",
    "\n",
    "if variable==True:\n",
    "    print(\"First day of a Month!\")\n"
   ]
  },
  {
   "cell_type": "code",
   "execution_count": 139,
   "id": "2ae3f29b",
   "metadata": {
    "scrolled": true
   },
   "outputs": [
    {
     "name": "stdout",
     "output_type": "stream",
     "text": [
      "please input a variable: 7666\n",
      "It's a integer!\n"
     ]
    }
   ],
   "source": [
    "#Write a Python program to check whether variable is of integer or string\n",
    "v_testing=input('please input a variable: ')\n",
    "\n",
    "while True:\n",
    "    try:\n",
    "        int(v_testing)\n",
    "        print(\"It's a integer!\")\n",
    "        break\n",
    "    except ValueError:\n",
    "        print(\"It's a string!\")\n",
    "        break"
   ]
  },
  {
   "cell_type": "code",
   "execution_count": 148,
   "id": "9b544c96",
   "metadata": {
    "scrolled": true
   },
   "outputs": [
    {
     "name": "stdout",
     "output_type": "stream",
     "text": [
      "Enter elements of a list separated by space: 213 5 3423 5566 314234\n",
      "['213', '5', '3423', '5566', '314234']\n",
      "The maximum numbers from a sequence of numbers:  314234\n",
      "The minimum numbers from a sequence of numbers:  5\n"
     ]
    }
   ],
   "source": [
    "#Write a Python function to find the maximum and minimum numbers from a sequence of numbers\n",
    "\n",
    "sequence_number=input('Enter elements of a list separated by space: ')\n",
    "number_list=sequence_number.split()\n",
    "print(number_list)\n",
    "\n",
    "m_max=int(number_list[0])\n",
    "m_min=int(number_list[0])\n",
    "\n",
    "for i in range(len(number_list)):\n",
    "    if m_max<int(number_list[i]):\n",
    "        m_max=int(number_list[i])\n",
    "        \n",
    "    if m_min>int(number_list[i]):\n",
    "        m_min=int(number_list[i])\n",
    "\n",
    "print('The maximum numbers from a sequence of numbers: ',m_max)\n",
    "print('The minimum numbers from a sequence of numbers: ',m_min)"
   ]
  },
  {
   "cell_type": "code",
   "execution_count": null,
   "id": "de98b339",
   "metadata": {},
   "outputs": [],
   "source": []
  }
 ],
 "metadata": {
  "kernelspec": {
   "display_name": "Python 3 (ipykernel)",
   "language": "python",
   "name": "python3"
  },
  "language_info": {
   "codemirror_mode": {
    "name": "ipython",
    "version": 3
   },
   "file_extension": ".py",
   "mimetype": "text/x-python",
   "name": "python",
   "nbconvert_exporter": "python",
   "pygments_lexer": "ipython3",
   "version": "3.10.0"
  }
 },
 "nbformat": 4,
 "nbformat_minor": 5
}
